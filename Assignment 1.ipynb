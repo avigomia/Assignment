{
 "cells": [
  {
   "cell_type": "code",
   "execution_count": 2,
   "id": "7a3c1b07-34b3-4abb-a94d-6a8def4c7685",
   "metadata": {},
   "outputs": [],
   "source": [
    "#Swap the values of these variables without using any temporary variable.\n",
    "x=5\n",
    "y=7\n",
    "x=x+y\n",
    "y=x-y\n",
    "x=x-y"
   ]
  },
  {
   "cell_type": "code",
   "execution_count": 3,
   "id": "4a8e4fb4-d933-467f-b10b-abc26731b144",
   "metadata": {},
   "outputs": [
    {
     "data": {
      "text/plain": [
       "7"
      ]
     },
     "execution_count": 3,
     "metadata": {},
     "output_type": "execute_result"
    }
   ],
   "source": [
    "x"
   ]
  },
  {
   "cell_type": "code",
   "execution_count": 4,
   "id": "b16af2b3-428f-4479-b408-8b684482dc70",
   "metadata": {},
   "outputs": [
    {
     "data": {
      "text/plain": [
       "5"
      ]
     },
     "execution_count": 4,
     "metadata": {},
     "output_type": "execute_result"
    }
   ],
   "source": [
    "y"
   ]
  },
  {
   "cell_type": "code",
   "execution_count": 5,
   "id": "62771949-407f-44aa-a65b-5decaeebd33c",
   "metadata": {},
   "outputs": [
    {
     "name": "stdin",
     "output_type": "stream",
     "text": [
      " 5\n",
      " 7\n"
     ]
    }
   ],
   "source": [
    "#calculates the area of a rectangle\n",
    "x=int(input())\n",
    "y=int(input())\n",
    "area=x*y"
   ]
  },
  {
   "cell_type": "code",
   "execution_count": 7,
   "id": "d693ca2e-01bf-4b81-9f44-de73a9378db6",
   "metadata": {},
   "outputs": [
    {
     "data": {
      "text/plain": [
       "35"
      ]
     },
     "execution_count": 7,
     "metadata": {},
     "output_type": "execute_result"
    }
   ],
   "source": [
    "area"
   ]
  },
  {
   "cell_type": "code",
   "execution_count": 10,
   "id": "65f2473c-6ea6-4992-91c9-501d306b5bd4",
   "metadata": {},
   "outputs": [
    {
     "name": "stdin",
     "output_type": "stream",
     "text": [
      " 36.9\n"
     ]
    }
   ],
   "source": [
    "#converts temperatures from Celsius to Fahrenheit\n",
    "c=float(input())\n",
    "f=(c*9/5)+32"
   ]
  },
  {
   "cell_type": "code",
   "execution_count": 9,
   "id": "85c122ab-17d2-4f4e-b7bf-48b4306a0a78",
   "metadata": {},
   "outputs": [
    {
     "data": {
      "text/plain": [
       "98.41999999999999"
      ]
     },
     "execution_count": 9,
     "metadata": {},
     "output_type": "execute_result"
    }
   ],
   "source": [
    "f"
   ]
  },
  {
   "cell_type": "code",
   "execution_count": 11,
   "id": "2037a2c9-5b1b-4b1b-8f94-9e694d43287c",
   "metadata": {},
   "outputs": [
    {
     "name": "stdin",
     "output_type": "stream",
     "text": [
      " 'avinash'\n"
     ]
    },
    {
     "data": {
      "text/plain": [
       "9"
      ]
     },
     "execution_count": 11,
     "metadata": {},
     "output_type": "execute_result"
    }
   ],
   "source": [
    "#prints the length of the string.\n",
    "abc=input()\n",
    "len(abc)"
   ]
  },
  {
   "cell_type": "code",
   "execution_count": 14,
   "id": "74ad5333-eaba-4b37-828d-1183590946cf",
   "metadata": {},
   "outputs": [
    {
     "name": "stdin",
     "output_type": "stream",
     "text": [
      " avinash\n"
     ]
    }
   ],
   "source": [
    "#counts the number of vowels\n",
    "abc=input()\n",
    "vowels=0\n",
    "for i in abc:\n",
    "    if(i=='a' or i=='e' or i=='i' or i=='o' or i=='u' or i=='A' or i=='E' or i=='I' or i=='O' or i=='U'):\n",
    "            vowels=vowels+1"
   ]
  },
  {
   "cell_type": "code",
   "execution_count": 15,
   "id": "c75b1b9a-f78e-41ee-a3cc-1ded8b95d00f",
   "metadata": {},
   "outputs": [
    {
     "data": {
      "text/plain": [
       "3"
      ]
     },
     "execution_count": 15,
     "metadata": {},
     "output_type": "execute_result"
    }
   ],
   "source": [
    "vowels"
   ]
  },
  {
   "cell_type": "code",
   "execution_count": 16,
   "id": "d529af7a-0358-4ba6-aea3-306f58fc22bc",
   "metadata": {},
   "outputs": [],
   "source": [
    "#reversed string.\n",
    "xyz='sahil'\n",
    "rev=xyz[::-1]"
   ]
  },
  {
   "cell_type": "code",
   "execution_count": 17,
   "id": "4fab8710-97d2-4cd9-bf68-25cfcada3070",
   "metadata": {},
   "outputs": [
    {
     "data": {
      "text/plain": [
       "'lihas'"
      ]
     },
     "execution_count": 17,
     "metadata": {},
     "output_type": "execute_result"
    }
   ],
   "source": [
    "rev"
   ]
  },
  {
   "cell_type": "code",
   "execution_count": null,
   "id": "15098573-7b35-4c63-abb5-073665d6aa51",
   "metadata": {},
   "outputs": [],
   "source": []
  },
  {
   "cell_type": "code",
   "execution_count": 23,
   "id": "b0fda405-fb92-44dc-a7f9-ae898278afc9",
   "metadata": {},
   "outputs": [
    {
     "name": "stdin",
     "output_type": "stream",
     "text": [
      " asdsff\n"
     ]
    },
    {
     "name": "stdout",
     "output_type": "stream",
     "text": [
      "false\n"
     ]
    }
   ],
   "source": [
    "#string as input and checks if it is a palindrome\n",
    "abc=input()\n",
    "rev=abc[::-1]\n",
    "if(abc==rev):\n",
    "    print(\"true\")\n",
    "else:\n",
    "    print(\"false\")"
   ]
  },
  {
   "cell_type": "code",
   "execution_count": 25,
   "id": "4d839fb8-f867-42bb-a305-fa2ce6802ebf",
   "metadata": {},
   "outputs": [
    {
     "name": "stdin",
     "output_type": "stream",
     "text": [
      " asd asd fds\n"
     ]
    },
    {
     "name": "stdout",
     "output_type": "stream",
     "text": [
      "asdasdfds\n"
     ]
    }
   ],
   "source": [
    "#string as input and removes all the spaces from it.\n",
    "abc=input()\n",
    "xyz=abc.replace(\" \",\"\")\n",
    "print(xyz)"
   ]
  },
  {
   "cell_type": "code",
   "execution_count": null,
   "id": "3fe74413-0aca-487d-8eb6-2481b7711c6d",
   "metadata": {},
   "outputs": [],
   "source": []
  }
 ],
 "metadata": {
  "kernelspec": {
   "display_name": "Python 3 (ipykernel)",
   "language": "python",
   "name": "python3"
  },
  "language_info": {
   "codemirror_mode": {
    "name": "ipython",
    "version": 3
   },
   "file_extension": ".py",
   "mimetype": "text/x-python",
   "name": "python",
   "nbconvert_exporter": "python",
   "pygments_lexer": "ipython3",
   "version": "3.10.8"
  }
 },
 "nbformat": 4,
 "nbformat_minor": 5
}
